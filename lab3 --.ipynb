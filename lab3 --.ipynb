{
 "cells": [
  {
   "cell_type": "code",
   "execution_count": 2,
   "metadata": {},
   "outputs": [],
   "source": [
    "import re"
   ]
  },
  {
   "cell_type": "code",
   "execution_count": 39,
   "metadata": {},
   "outputs": [
    {
     "name": "stdout",
     "output_type": "stream",
     "text": [
      "['m', 'h', 'a', 'm', 'm', 'e', 'd', 'a', 'b', 'd', 'l', 'l', 'i', 'h', 'a', 'a', 'd', 'i']\n"
     ]
    }
   ],
   "source": [
    "txt = \"mohammed abdullih AL-Saadi 3700578\"\n",
    "x = re.findall(\"[a-m]\", txt)\n",
    "print(x)"
   ]
  },
  {
   "cell_type": "code",
   "execution_count": 40,
   "metadata": {},
   "outputs": [
    {
     "name": "stdout",
     "output_type": "stream",
     "text": [
      "['3', '7', '0', '0', '5', '7', '8']\n"
     ]
    }
   ],
   "source": [
    "txt = \"mohammed abdullih AL-Saadi 3700578\"\n",
    "x = re.findall(\"\\d\", txt)\n",
    "print(x)"
   ]
  },
  {
   "cell_type": "code",
   "execution_count": 41,
   "metadata": {},
   "outputs": [
    {
     "name": "stdout",
     "output_type": "stream",
     "text": [
      "['AL-Saadi']\n"
     ]
    }
   ],
   "source": [
    "txt = \"mohammed abdullih AL-Saadi 3700578\"\n",
    "x = re.findall(\"AL....di\", txt)\n",
    "print(x)"
   ]
  },
  {
   "cell_type": "code",
   "execution_count": 42,
   "metadata": {},
   "outputs": [
    {
     "name": "stdout",
     "output_type": "stream",
     "text": [
      "No match\n"
     ]
    }
   ],
   "source": [
    "txt = \"mohammed abdullih AL-Saadi 3700578\"\n",
    "x = re.findall(\"^hello\", txt)\n",
    "if x:\n",
    "  print(\"Yes, the string starts with 'hello'\")\n",
    "else:\n",
    "  print(\"No match\")\n",
    "        "
   ]
  },
  {
   "cell_type": "code",
   "execution_count": 43,
   "metadata": {},
   "outputs": [
    {
     "name": "stdout",
     "output_type": "stream",
     "text": [
      "Yes, the string ends with 3700578\n"
     ]
    }
   ],
   "source": [
    "txt = \"mohammed abdullih AL-Saadi 3700578\"\n",
    "x = re.findall(\"3700578$\", txt)\n",
    "if x:\n",
    "  print(\"Yes, the string ends with 3700578\")\n",
    "else:\n",
    "  print(\"No match\")"
   ]
  },
  {
   "cell_type": "code",
   "execution_count": 44,
   "metadata": {},
   "outputs": [
    {
     "name": "stdout",
     "output_type": "stream",
     "text": [
      "[]\n",
      "No match\n"
     ]
    }
   ],
   "source": [
    "txt = \"mohammed abdullih AL-Saadi 3700578\"\n",
    "x = re.findall(\"\\AThe\", txt)\n",
    "print(x)\n",
    "if x:\n",
    "  print(\"Yes, there is a match!\")\n",
    "else:\n",
    "  print(\"No match\")"
   ]
  },
  {
   "cell_type": "code",
   "execution_count": 45,
   "metadata": {},
   "outputs": [
    {
     "name": "stdout",
     "output_type": "stream",
     "text": [
      "['ad']\n",
      "Yes, there is at least one match!\n"
     ]
    }
   ],
   "source": [
    "txt = \"mohammed abdullih AL-Saadi 3700578\"\n",
    "x = re.findall(\"adx*\", txt)\n",
    "print(x)\n",
    "if x:\n",
    "  print(\"Yes, there is at least one match!\")\n",
    "else:\n",
    "  print(\"No match\")"
   ]
  },
  {
   "cell_type": "code",
   "execution_count": 46,
   "metadata": {},
   "outputs": [
    {
     "name": "stdout",
     "output_type": "stream",
     "text": [
      "['adi']\n",
      "Yes, there is at least one match!\n"
     ]
    }
   ],
   "source": [
    "txt = \"mohammed abdullih AL-Saadi 3700578\"\n",
    "x = re.findall(\"adi+\", txt)\n",
    "print(x)\n",
    "if x:\n",
    "  print(\"Yes, there is at least one match!\")\n",
    "else:\n",
    "  print(\"No match\")"
   ]
  },
  {
   "cell_type": "code",
   "execution_count": 47,
   "metadata": {},
   "outputs": [
    {
     "name": "stdout",
     "output_type": "stream",
     "text": [
      "['AL']\n",
      "Yes, there is at least one match!\n"
     ]
    }
   ],
   "source": [
    "txt = \"mohammed abdullih AL-Saadi 3700578\"\n",
    "x = re.findall(\"AL{1}\", txt)\n",
    "print(x)\n",
    "if x:\n",
    "  print(\"Yes, there is at least one match!\")\n",
    "else:\n",
    "  print(\"No match\")"
   ]
  },
  {
   "cell_type": "code",
   "execution_count": 24,
   "metadata": {},
   "outputs": [
    {
     "name": "stdout",
     "output_type": "stream",
     "text": [
      "['Saadi']\n",
      "Yes, there is at least one match!\n"
     ]
    }
   ],
   "source": [
    "txt = \"mohammed abdullih AL-Saadi 3700578\"\n",
    "x = re.findall(\"Saadi|mohe\", txt)\n",
    "print(x)\n",
    "if x:\n",
    "  print(\"Yes, there is at least one match!\")\n",
    "else:\n",
    "  print(\"No match\")\n",
    "\n"
   ]
  },
  {
   "cell_type": "code",
   "execution_count": 50,
   "metadata": {},
   "outputs": [
    {
     "name": "stdout",
     "output_type": "stream",
     "text": [
      "['a']\n",
      "Yes, there is at least one match!\n"
     ]
    }
   ],
   "source": [
    "txt = \"mohammed abdullih AL-Saadi 3700578\"\n",
    "x = re.findall(r\"\\ba\", txt)\n",
    "print(x)\n",
    "if x:\n",
    "  print(\"Yes, there is at least one match!\")\n",
    "else:\n",
    "  print(\"No match\")"
   ]
  },
  {
   "cell_type": "code",
   "execution_count": 55,
   "metadata": {},
   "outputs": [
    {
     "name": "stdout",
     "output_type": "stream",
     "text": [
      "['d']\n",
      "Yes, there is at least one match!\n"
     ]
    }
   ],
   "source": [
    "txt = \"mohammed abdullih AL-Saadi 3700578\"\n",
    "x = re.findall(r\"d\\b\", txt)\n",
    "print(x)\n",
    "if x:\n",
    "  print(\"Yes, there is at least one match!\")\n",
    "else:\n",
    "  print(\"No match\")"
   ]
  },
  {
   "cell_type": "code",
   "execution_count": 58,
   "metadata": {},
   "outputs": [
    {
     "name": "stdout",
     "output_type": "stream",
     "text": [
      "['me']\n",
      "Yes, there is at least one match!\n"
     ]
    }
   ],
   "source": [
    "txt = \"mohammed abdullih AL-Saadi 3700578\"\n",
    "x = re.findall(r\"\\Bme\", txt)\n",
    "\n",
    "print(x)\n",
    "\n",
    "if x:\n",
    "  print(\"Yes, there is at least one match!\")\n",
    "else:\n",
    "  print(\"No match\")\n"
   ]
  },
  {
   "cell_type": "code",
   "execution_count": 60,
   "metadata": {},
   "outputs": [
    {
     "name": "stdout",
     "output_type": "stream",
     "text": [
      "['du']\n",
      "Yes, there is at least one match!\n"
     ]
    }
   ],
   "source": [
    "txt = \"mohammed abdullih AL-Saadi 3700578\"\n",
    "x = re.findall(r\"du\\B\", txt)\n",
    "print(x)\n",
    "if x:\n",
    "  print(\"Yes, there is at least one match!\")\n",
    "else:\n",
    "  print(\"No match\")"
   ]
  },
  {
   "cell_type": "code",
   "execution_count": 61,
   "metadata": {},
   "outputs": [
    {
     "name": "stdout",
     "output_type": "stream",
     "text": [
      "Regular expression is a sequence of character(s) mainly us ed to find and replace patterns in a string or file\n"
     ]
    }
   ],
   "source": [
    "txt = \"Regular expression is a sequence of character(s) mainly us ed to find and replace patterns in a string or file\"\n",
    "start = txt.find(\"Regular\") \n",
    "end = txt.find(\"file\") + + len(\"file\")\n",
    "substring = txt[start:end]\n",
    "print(substring)"
   ]
  },
  {
   "cell_type": "code",
   "execution_count": 62,
   "metadata": {},
   "outputs": [
    {
     "name": "stdout",
     "output_type": "stream",
     "text": [
      "We will see how to replace words using regu lar expressions such does not, can not and so on\n"
     ]
    }
   ],
   "source": [
    "replacement_patterns = [ (r'won\\'t', 'will not'), (r'can\\'t', 'can not'), (r'i\\'m', 'i am'), (r'ain\\'t', 'is not'),(r'(\\w+)\\'ll', '\\g<1> will'), (r'(\\w+)n\\'t', '\\g<1> not'), (r'(\\w+)\\'ve', '\\g<1> have'),(r'(\\w+)\\'s', '\\g<1> is'), (r'(\\w+)\\'re', '\\g<1> are'), (r'(\\w+)\\'d', '\\g<1> would')]\n",
    "class RegexReplacer(object):\n",
    "  def __init__(self, patterns=replacement_patterns):\n",
    "    self.patterns = [(re.compile(regex), repl) for (regex, repl)in patterns]\n",
    "  def replace(self, text):\n",
    "    s = text\n",
    "    for (pattern, repl) in self.patterns:\n",
    "      (s, count) = re.subn(pattern, repl, s)\n",
    "    return s\n",
    "\n",
    "a= RegexReplacer()\n",
    "aaa=\"We'll see how to replace words using regu lar expressions such doesn't, can't and so on\"\n",
    "print(a.replace(aaa))"
   ]
  },
  {
   "cell_type": "code",
   "execution_count": 63,
   "metadata": {},
   "outputs": [
    {
     "name": "stdout",
     "output_type": "stream",
     "text": [
      "type :I likkke python\n"
     ]
    },
    {
     "data": {
      "text/plain": [
       "'I like python'"
      ]
     },
     "execution_count": 63,
     "metadata": {},
     "output_type": "execute_result"
    }
   ],
   "source": [
    "class RepeatReplacer(object):\n",
    "    def __init__(self):\n",
    "        self.repeat_regexp = re.compile(r'(\\w*)(\\w)\\2(\\w*)')\n",
    "        self.repl = r'\\1\\2\\3' \n",
    "    def replace(self, word):\n",
    "        repl_word = self.repeat_regexp.sub(self.repl, word) \n",
    "        if repl_word != word:\n",
    "            return self.replace(repl_word) \n",
    "        else:\n",
    "            return repl_word\n",
    "\n",
    "a= RepeatReplacer()\n",
    "aaa = input(\"type :\")\n",
    "a.replace(aaa)"
   ]
  }
 ],
 "metadata": {
  "kernelspec": {
   "display_name": "Python 3",
   "language": "python",
   "name": "python3"
  },
  "language_info": {
   "codemirror_mode": {
    "name": "ipython",
    "version": 3
   },
   "file_extension": ".py",
   "mimetype": "text/x-python",
   "name": "python",
   "nbconvert_exporter": "python",
   "pygments_lexer": "ipython3",
   "version": "3.7.4"
  }
 },
 "nbformat": 4,
 "nbformat_minor": 2
}

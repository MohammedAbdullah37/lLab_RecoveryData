{
 "cells": [
  {
   "cell_type": "code",
   "execution_count": 2,
   "metadata": {},
   "outputs": [
    {
     "name": "stderr",
     "output_type": "stream",
     "text": [
      "[nltk_data] Downloading package stopwords to\n",
      "[nltk_data]     C:\\Users\\USER\\AppData\\Roaming\\nltk_data...\n",
      "[nltk_data]   Package stopwords is already up-to-date!\n",
      "[nltk_data] Downloading package punkt to\n",
      "[nltk_data]     C:\\Users\\USER\\AppData\\Roaming\\nltk_data...\n",
      "[nltk_data]   Package punkt is already up-to-date!\n"
     ]
    },
    {
     "data": {
      "text/plain": [
       "True"
      ]
     },
     "execution_count": 2,
     "metadata": {},
     "output_type": "execute_result"
    }
   ],
   "source": [
    "import pandas as pd\n",
    "import numpy as np\n",
    "import nltk\n",
    "nltk.download('stopwords')\n",
    "nltk.download('punkt') \n"
   ]
  },
  {
   "cell_type": "code",
   "execution_count": 3,
   "metadata": {},
   "outputs": [],
   "source": [
    "from nltk.corpus import stopwords\n",
    "from nltk.tokenize import word_tokenize\n",
    "from nltk.stem import PorterStemmer\n",
    "import os\n",
    "import string\n",
    "import copy\n",
    "import pickle "
   ]
  },
  {
   "cell_type": "code",
   "execution_count": 4,
   "metadata": {},
   "outputs": [],
   "source": [
    "title = \"20_newsgroups\""
   ]
  },
  {
   "cell_type": "code",
   "execution_count": 5,
   "metadata": {},
   "outputs": [
    {
     "name": "stdout",
     "output_type": "stream",
     "text": [
      "C:\\20_newsgroups/20_newsgroups/alt.atheism\n"
     ]
    }
   ],
   "source": [
    "os.chdir(\"C:/20_newsgroups\")\n",
    "paths = []\n",
    "for (dirpath, dirnames, filenames) in os.walk(str(os.getcwd())+'/'+title+'/'):\n",
    "     for i in filenames:\n",
    "        paths.append(str(dirpath)+str(\"\\\\\")+i)\n",
    "print(dirpath)           \n",
    "        "
   ]
  },
  {
   "cell_type": "code",
   "execution_count": 6,
   "metadata": {},
   "outputs": [
    {
     "data": {
      "text/plain": [
       "'C:\\\\20_newsgroups/20_newsgroups/alt.atheism\\\\49960'"
      ]
     },
     "execution_count": 6,
     "metadata": {},
     "output_type": "execute_result"
    }
   ],
   "source": [
    "paths[0]"
   ]
  },
  {
   "cell_type": "code",
   "execution_count": 7,
   "metadata": {},
   "outputs": [
    {
     "data": {
      "text/plain": [
       "22"
      ]
     },
     "execution_count": 7,
     "metadata": {},
     "output_type": "execute_result"
    }
   ],
   "source": [
    "len(paths)"
   ]
  },
  {
   "cell_type": "code",
   "execution_count": 8,
   "metadata": {},
   "outputs": [],
   "source": [
    "def remove_header(data):\n",
    "    try:\n",
    "        ind = data.index('\\n\\n')\n",
    "        data = data[ind:]\n",
    "    except:\n",
    "        print(\"No Header\")\n",
    "    return data\n",
    "def convert_lower_case(data):\n",
    "    return np.char.lower(data)\n",
    "\n",
    "def remove_stop_words(data):\n",
    "    stop_words = stopwords.words('english')\n",
    "    words = word_tokenize(str(data))\n",
    "    new_text= \"\"\n",
    "    for w in words:\n",
    "        if w not in stop_words:\n",
    "            new_text = new_text + \" \" + w\n",
    "    return np.char.strip(new_text)\n",
    "\n",
    "def remove_punctuation(data):\n",
    "    symbols = \"!\\\"#$%&()*+-./:;<=>?@[\\]^_`{|}~\\n\"\n",
    "    for i in range(len(symbols)):\n",
    "        data = np.char.replace(data, symbols[i], '')\n",
    "        data = np.char.replace(data, \" \", \" \")\n",
    "    data = np.char.replace(data, ',', '')\n",
    "    return data \n",
    "\n",
    "def remove_apostrophe(data):\n",
    "    return np.char.replace(data, \"'\",\"\")\n",
    "\n",
    "def remove_single_characters(data):\n",
    "    words = word_tokenize(str(data))\n",
    "    new_text = \"\"\n",
    "    for w in words:\n",
    "        if len(w) >1:\n",
    "            new_text = new_text + \" \" + w\n",
    "    return np.char.strip(new_text)\n",
    "\n",
    "def convert_numbers(data):\n",
    "    data = np.char.replace(data , \"0\" , \"zero\")\n",
    "    data = np.char.replace(data , \"1\" , \"one\")\n",
    "    data = np.char.replace(data , \"2\" , \"two\")\n",
    "    data = np.char.replace(data , \"3\" , \"three\")\n",
    "    data = np.char.replace(data , \"4\" , \"four\")\n",
    "    data = np.char.replace(data , \"5\" , \"five\")\n",
    "    data = np.char.replace(data , \"6\" , \"six\")\n",
    "    data = np.char.replace(data , \"7\" , \"seven\")\n",
    "    data = np.char.replace(data , \"8\" , \"eight\")\n",
    "    data = np.char.replace(data , \"9\" , \"nine\")\n",
    "    return data\n",
    "def stemming(data):\n",
    "    stemmer = PorterStemmer()\n",
    "    \n",
    "    tokens = word_tokenize(str(data))\n",
    "    new_text = \"\"\n",
    "    for w in tokens:\n",
    "        new_text = new_text + \" \" + stemmer.stem(w)\n",
    "    return np.char.strip(new_text)\n"
   ]
  },
  {
   "cell_type": "code",
   "execution_count": 9,
   "metadata": {},
   "outputs": [],
   "source": [
    "def preprocess(data,query):\n",
    "    if not query:\n",
    "        data = remove_header(data)\n",
    "    data=convert_lower_case(data)\n",
    "    data=convert_numbers(data)\n",
    "    data=remove_stop_words(data)\n",
    "    data=remove_apostrophe(data)\n",
    "    data=remove_single_characters(data)\n",
    "    data=remove_punctuation(data)\n",
    "    data=stemming(data)\n",
    "    \n",
    "    return data"
   ]
  },
  {
   "cell_type": "code",
   "execution_count": 10,
   "metadata": {
    "scrolled": true
   },
   "outputs": [
    {
     "name": "stdout",
     "output_type": "stream",
     "text": [
      "0\n"
     ]
    }
   ],
   "source": [
    "doc = 0\n",
    "postings = pd.DataFrame()\n",
    "\n",
    "for path in paths:\n",
    "    file = open(path, 'r', encoding='cp1250')\n",
    "    text = file.read().strip()\n",
    "    file.close()\n",
    "    preprocessed_text = preprocess(text, False)\n",
    "    \n",
    "    if doc%100 == 0:\n",
    "        print(doc)\n",
    "\n",
    "    tokens = word_tokenize(str(preprocessed_text))\n",
    "    for token in tokens:\n",
    "        if token in postings:\n",
    "            p = postings[token][0]\n",
    "            p.add(doc)\n",
    "            postings[token][0] = p\n",
    "        else:\n",
    "            postings.insert(value=[{doc}], loc=0, column=token)\n",
    "    doc += 1"
   ]
  },
  {
   "cell_type": "code",
   "execution_count": 11,
   "metadata": {},
   "outputs": [
    {
     "data": {
      "text/html": [
       "<div>\n",
       "<style scoped>\n",
       "    .dataframe tbody tr th:only-of-type {\n",
       "        vertical-align: middle;\n",
       "    }\n",
       "\n",
       "    .dataframe tbody tr th {\n",
       "        vertical-align: top;\n",
       "    }\n",
       "\n",
       "    .dataframe thead th {\n",
       "        text-align: right;\n",
       "    }\n",
       "</style>\n",
       "<table border=\"1\" class=\"dataframe\">\n",
       "  <thead>\n",
       "    <tr style=\"text-align: right;\">\n",
       "      <th></th>\n",
       "      <th>exam</th>\n",
       "      <th>compil</th>\n",
       "      <th>side</th>\n",
       "      <th>uneven</th>\n",
       "      <th>pubsocreligionchristianotherscontradict</th>\n",
       "      <th>ftprutgersedu</th>\n",
       "      <th>ps</th>\n",
       "      <th>dj</th>\n",
       "      <th>mcdowel</th>\n",
       "      <th>josh</th>\n",
       "      <th>...</th>\n",
       "      <th>onezero</th>\n",
       "      <th>version</th>\n",
       "      <th>onenineninetwo</th>\n",
       "      <th>decemb</th>\n",
       "      <th>oneon</th>\n",
       "      <th>lastmodifi</th>\n",
       "      <th>resourc</th>\n",
       "      <th>altatheismarchivenam</th>\n",
       "      <th>atheismresourc</th>\n",
       "      <th>archivenam</th>\n",
       "    </tr>\n",
       "  </thead>\n",
       "  <tbody>\n",
       "    <tr>\n",
       "      <td>0</td>\n",
       "      <td>{21}</td>\n",
       "      <td>{21}</td>\n",
       "      <td>{21}</td>\n",
       "      <td>{21}</td>\n",
       "      <td>{21}</td>\n",
       "      <td>{21}</td>\n",
       "      <td>{21}</td>\n",
       "      <td>{21}</td>\n",
       "      <td>{21}</td>\n",
       "      <td>{21}</td>\n",
       "      <td>...</td>\n",
       "      <td>{0, 20}</td>\n",
       "      <td>{0, 1, 2}</td>\n",
       "      <td>{0, 1}</td>\n",
       "      <td>{0}</td>\n",
       "      <td>{0}</td>\n",
       "      <td>{0, 1}</td>\n",
       "      <td>{0}</td>\n",
       "      <td>{0, 1}</td>\n",
       "      <td>{0}</td>\n",
       "      <td>{0, 1}</td>\n",
       "    </tr>\n",
       "  </tbody>\n",
       "</table>\n",
       "<p>1 rows × 2046 columns</p>\n",
       "</div>"
      ],
      "text/plain": [
       "   exam compil  side uneven pubsocreligionchristianotherscontradict  \\\n",
       "0  {21}   {21}  {21}   {21}                                    {21}   \n",
       "\n",
       "  ftprutgersedu    ps    dj mcdowel  josh  ...  onezero    version  \\\n",
       "0          {21}  {21}  {21}    {21}  {21}  ...  {0, 20}  {0, 1, 2}   \n",
       "\n",
       "  onenineninetwo decemb oneon lastmodifi resourc altatheismarchivenam  \\\n",
       "0         {0, 1}    {0}   {0}     {0, 1}     {0}               {0, 1}   \n",
       "\n",
       "  atheismresourc archivenam  \n",
       "0            {0}     {0, 1}  \n",
       "\n",
       "[1 rows x 2046 columns]"
      ]
     },
     "execution_count": 11,
     "metadata": {},
     "output_type": "execute_result"
    }
   ],
   "source": [
    "postings"
   ]
  },
  {
   "cell_type": "code",
   "execution_count": 12,
   "metadata": {},
   "outputs": [],
   "source": [
    "postings.to_pickle(title + \"_unigram_postings\") "
   ]
  },
  {
   "cell_type": "code",
   "execution_count": 13,
   "metadata": {},
   "outputs": [
    {
     "data": {
      "text/plain": [
       "0    {0, 1, 2, 3, 4, 5, 7, 8, 13, 14, 16, 19, 20, 21}\n",
       "Name: one, dtype: object"
      ]
     },
     "execution_count": 13,
     "metadata": {},
     "output_type": "execute_result"
    }
   ],
   "source": [
    "postings[\"one\"]"
   ]
  },
  {
   "cell_type": "code",
   "execution_count": 14,
   "metadata": {},
   "outputs": [
    {
     "data": {
      "text/plain": [
       "0    {1, 2}\n",
       "Name: nine, dtype: object"
      ]
     },
     "execution_count": 14,
     "metadata": {},
     "output_type": "execute_result"
    }
   ],
   "source": [
    "postings[\"nine\"]"
   ]
  },
  {
   "cell_type": "code",
   "execution_count": 15,
   "metadata": {},
   "outputs": [
    {
     "data": {
      "text/plain": [
       "0    {21}\n",
       "Name: exam, dtype: object"
      ]
     },
     "execution_count": 15,
     "metadata": {},
     "output_type": "execute_result"
    }
   ],
   "source": [
    "postings[\"exam\"]"
   ]
  },
  {
   "cell_type": "code",
   "execution_count": 21,
   "metadata": {},
   "outputs": [],
   "source": [
    "postings=pd.read_pickle(title + \"_unigram_postings\") "
   ]
  },
  {
   "cell_type": "code",
   "execution_count": 26,
   "metadata": {},
   "outputs": [
    {
     "name": "stdout",
     "output_type": "stream",
     "text": [
      "nine\n",
      "Frequency: 2\n",
      "Postings List: {1, 2}\n"
     ]
    }
   ],
   "source": [
    "def get_word_postings(word):\n",
    "    preprocesses_word = str(preprocess(word, True))\n",
    "    print(preprocesses_word)\n",
    "    print(\"Frequency:\",len(postings[preprocesses_word][0]))\n",
    "    print(\"Postings List:\",(postings[preprocesses_word][0]))\n",
    "get_word_postings(\"nine\")"
   ]
  },
  {
   "cell_type": "code",
   "execution_count": 25,
   "metadata": {},
   "outputs": [
    {
     "data": {
      "text/plain": [
       "{0, 3, 4, 5, 6, 7, 8, 9, 10, 11, 12, 13, 14, 15, 16, 17, 18, 19, 20, 21}"
      ]
     },
     "execution_count": 25,
     "metadata": {},
     "output_type": "execute_result"
    }
   ],
   "source": [
    "def get_not(word):\n",
    "    a = postings[word][0]\n",
    "    b = set(range(len(paths)))\n",
    "    return b.difference(a)\n",
    "get_not(\"nine\")"
   ]
  },
  {
   "cell_type": "code",
   "execution_count": 29,
   "metadata": {},
   "outputs": [],
   "source": [
    "def generate_command_tokens(query):\n",
    "    query = query.lower()\n",
    "    tokens = word_tokenize(query)\n",
    "    \n",
    "    commands = []\n",
    "    query_words = []\n",
    "    \n",
    "    for t in tokens:\n",
    "        if t not in ['and','or','not']:\n",
    "            processed_word = preprocess([t], True)\n",
    "            print(str(processed_word))\n",
    "            query_words.append(str(processed_word))\n",
    "        else:\n",
    "            commands.append(t)\n",
    "            \n",
    "    return commands,query_words"
   ]
  },
  {
   "cell_type": "code",
   "execution_count": 53,
   "metadata": {},
   "outputs": [],
   "source": [
    "def gen_not_tuple(query_words, commands):\n",
    "    tup=[]\n",
    "    while 'not' in commands:\n",
    "        i = commands.index('not')\n",
    "        word = query_words[i]\n",
    "        word_postings - get_not(word)\n",
    "        tup.append(word_postings)\n",
    "        commands.pop(i)\n",
    "        query_words[i] = i\n",
    "        print(\"\\nAfter Not Processing : \",commands, query_words)\n",
    "    return tup\n",
    "def binary_operations(query_words , commands , tup):\n",
    "    a = postings[query_words[0]][0]\n",
    "    query_words.pop(0)\n",
    "    \n",
    "    for i in range(len(commands)):\n",
    "        if type (query_words[i])==int:\n",
    "            b = tup.pop(0)\n",
    "        else:\n",
    "            b = postings[query_words[i]][0]\n",
    "            \n",
    "            if commands[i] == 'and':\n",
    "                a = a.intersection(b)\n",
    "            elif commands[i] == 'or':\n",
    "                 a = a.union(b)\n",
    "            else:\n",
    "                print(\"Invalid Command\")\n",
    "    return a\n",
    "\n",
    "\n",
    "def execute_query(query):\n",
    "    \n",
    "    commands, query_words = generate_command_tokens(query)\n",
    "    tup = gen_not_tuple(query_words, commands)\n",
    "    \n",
    "    print(\"\\nCommands :\",commands)\n",
    "    print(\"\\nQuery Words :\",query_words)\n",
    "    print(\"\\nTup :\",len(tup))\n",
    "    \n",
    "    final_set = binary_operations(query_words , commands , tup)\n",
    "    \n",
    "    print(\"\\nFinal Set :\",final_set)\n",
    "    return final_set\n",
    "\n",
    "def print_file(file):\n",
    "    out_file = open(paths[file], 'r', encoding = 'cp1250')\n",
    "    out_text = out_file.read()\n",
    "    print(out_text)"
   ]
  },
  {
   "cell_type": "code",
   "execution_count": 54,
   "metadata": {},
   "outputs": [],
   "source": [
    "query = \"exam and nine\""
   ]
  },
  {
   "cell_type": "code",
   "execution_count": 55,
   "metadata": {},
   "outputs": [
    {
     "name": "stdout",
     "output_type": "stream",
     "text": [
      "exam\n",
      "nine\n",
      "\n",
      "Commands : ['and']\n",
      "\n",
      "Query Words : ['exam', 'nine']\n",
      "\n",
      "Tup : 0\n",
      "\n",
      "Final Set : set()\n"
     ]
    }
   ],
   "source": [
    "lists = execute_query(query)"
   ]
  }
 ],
 "metadata": {
  "kernelspec": {
   "display_name": "Python 3",
   "language": "python",
   "name": "python3"
  },
  "language_info": {
   "codemirror_mode": {
    "name": "ipython",
    "version": 3
   },
   "file_extension": ".py",
   "mimetype": "text/x-python",
   "name": "python",
   "nbconvert_exporter": "python",
   "pygments_lexer": "ipython3",
   "version": "3.7.4"
  }
 },
 "nbformat": 4,
 "nbformat_minor": 2
}

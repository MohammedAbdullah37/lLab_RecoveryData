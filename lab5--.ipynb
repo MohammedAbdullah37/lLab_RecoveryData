{
 "cells": [
  {
   "cell_type": "code",
   "execution_count": 8,
   "metadata": {},
   "outputs": [
    {
     "name": "stdout",
     "output_type": "stream",
     "text": [
      "0.5555555555555556\n",
      "['There', 'are', 'many', 'similarity', 'measures', 'used', 'in', 'NLTK', 'package']\n"
     ]
    }
   ],
   "source": [
    "from __future__ import print_function\n",
    "from nltk.metrics import *\n",
    "Sentence1='There are many similarity measures used in NLTK package'.split()\n",
    "Sentence2='There are many similarity measures are avaliable in NLTK '.split()\n",
    "print(accuracy(Sentence1,Sentence2))\n",
    "print(Sentence1)"
   ]
  },
  {
   "cell_type": "code",
   "execution_count": 12,
   "metadata": {},
   "outputs": [
    {
     "name": "stdout",
     "output_type": "stream",
     "text": [
      "accuracy =  0.5555555555555556\n",
      "precision =  0.875\n",
      "recall =  0.7777777777777778\n"
     ]
    }
   ],
   "source": [
    "setSentence1=set(Sentence1)\n",
    "setSentence2=set(Sentence2)\n",
    "print('accuracy = ',accuracy(Sentence1,Sentence2))\n",
    "print('precision = ',precision(setSentence1,setSentence2))\n",
    "print('recall = ',recall(setSentence1,setSentence2))"
   ]
  },
  {
   "cell_type": "code",
   "execution_count": 16,
   "metadata": {},
   "outputs": [
    {
     "data": {
      "text/plain": [
       "<matplotlib.axes._subplots.AxesSubplot at 0x1e8bb3176c8>"
      ]
     },
     "execution_count": 16,
     "metadata": {},
     "output_type": "execute_result"
    }
   ],
   "source": [
    "import seaborn as sn\n",
    "import pandas as pd\n",
    "import matplotlib.pyplot as plt\n",
    "from sklearn.metrics import confusion_matrix \n",
    "from sklearn.metrics import confusion_matrix, classification_report\n",
    "ar = confusion_matrix(Sentence1,Sentence2)\n",
    "df_cm = pd.DataFrame(ar)\n",
    "plt.figure(figsize = (10,7))\n",
    "sn.heatmap(df_cm, annot=True, annot_kws={\"size\": 16})"
   ]
  },
  {
   "cell_type": "code",
   "execution_count": 19,
   "metadata": {},
   "outputs": [
    {
     "data": {
      "text/plain": [
       "3"
      ]
     },
     "execution_count": 19,
     "metadata": {},
     "output_type": "execute_result"
    }
   ],
   "source": [
    "import nltk\n",
    "from nltk.metrics import *\n",
    "edit_distance(\"relate\",\"relation\")"
   ]
  },
  {
   "cell_type": "code",
   "execution_count": 21,
   "metadata": {},
   "outputs": [
    {
     "data": {
      "text/plain": [
       "7"
      ]
     },
     "execution_count": 21,
     "metadata": {},
     "output_type": "execute_result"
    }
   ],
   "source": [
    "import nltk\n",
    "from nltk.metrics import *\n",
    "edit_distance(\"suggestion\",\"calculation\")"
   ]
  },
  {
   "cell_type": "code",
   "execution_count": 23,
   "metadata": {},
   "outputs": [
    {
     "name": "stdout",
     "output_type": "stream",
     "text": [
      "0.3\n"
     ]
    }
   ],
   "source": [
    "def jacc_similarity(query, document):\n",
    "    first=set(query).intersection(set(document))\n",
    "    second=set(query).union(set(document))\n",
    "    return len(first)/len(second)\n",
    "import nltk\n",
    "from nltk.metrics import *\n",
    "X=set(Sentence1)\n",
    "Y=set(Sentence2)\n",
    "print(jaccard_distance(X,Y)) "
   ]
  },
  {
   "cell_type": "code",
   "execution_count": 26,
   "metadata": {},
   "outputs": [
    {
     "data": {
      "text/plain": [
       "0.0"
      ]
     },
     "execution_count": 26,
     "metadata": {},
     "output_type": "execute_result"
    }
   ],
   "source": [
    "import nltk\n",
    "from nltk.metrics import *\n",
    "X=set(\"mohammed\")\n",
    "Y=set(\"mohammed\")\n",
    "binary_distance(X, Y)"
   ]
  },
  {
   "cell_type": "code",
   "execution_count": 28,
   "metadata": {},
   "outputs": [
    {
     "data": {
      "text/plain": [
       "1.0"
      ]
     },
     "execution_count": 28,
     "metadata": {},
     "output_type": "execute_result"
    }
   ],
   "source": [
    "import nltk\n",
    "from nltk.metrics import *\n",
    "X=set(\"mohammed\")\n",
    "Y=set(\"ahmed\")\n",
    "binary_distance(X, Y)"
   ]
  },
  {
   "cell_type": "code",
   "execution_count": 39,
   "metadata": {},
   "outputs": [
    {
     "data": {
      "text/plain": [
       "0.945"
      ]
     },
     "execution_count": 39,
     "metadata": {},
     "output_type": "execute_result"
    }
   ],
   "source": [
    "def masi(label1, label2):\n",
    "    len_intersection = len(label1.intersection(label2))\n",
    "    len_union = len(label1.union(label2))\n",
    "    len_label1 = len(label1)\n",
    "    len_label2 = len(label2) \n",
    "    if len_label1 == len_label2 and len_label1 == len_intersection:\n",
    "        m = 1\n",
    "    elif len_intersection == min(len_label1, len_label2):\n",
    "        m = 0.67\n",
    "    elif len_intersection > 0:\n",
    "        m = 0.33 \n",
    "    else:\n",
    "        m = 0 \n",
    "    return 1 - (len_intersection / float(len_union)) * m\n",
    "X=set([10,20,30,40])\n",
    "Y=set([30,50,70])\n",
    "masi(X, Y) "
   ]
  }
 ],
 "metadata": {
  "kernelspec": {
   "display_name": "Python 3",
   "language": "python",
   "name": "python3"
  },
  "language_info": {
   "codemirror_mode": {
    "name": "ipython",
    "version": 3
   },
   "file_extension": ".py",
   "mimetype": "text/x-python",
   "name": "python",
   "nbconvert_exporter": "python",
   "pygments_lexer": "ipython3",
   "version": "3.7.4"
  }
 },
 "nbformat": 4,
 "nbformat_minor": 2
}
